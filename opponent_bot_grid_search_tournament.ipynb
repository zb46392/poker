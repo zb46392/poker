{
 "cells": [
  {
   "cell_type": "code",
   "execution_count": null,
   "metadata": {
    "colab": {
     "base_uri": "https://localhost:8080/"
    },
    "id": "aioY1vkxlZKM",
    "outputId": "e24a20dd-d112-4c15-a175-6467b53db382"
   },
   "outputs": [
    {
     "name": "stdout",
     "output_type": "stream",
     "text": [
      "Mounted at /content/driver/\n"
     ]
    }
   ],
   "source": [
    "from google.colab import drive\n",
    "drive.mount('/content/driver/')"
   ]
  },
  {
   "cell_type": "code",
   "execution_count": null,
   "metadata": {
    "colab": {
     "base_uri": "https://localhost:8080/"
    },
    "id": "LcPmH6gLlnkv",
    "outputId": "35d50917-324b-4442-886b-92e1cd272ced"
   },
   "outputs": [
    {
     "name": "stdout",
     "output_type": "stream",
     "text": [
      "/content/driver/My Drive/dip\n"
     ]
    }
   ],
   "source": [
    "%cd driver/My\\ Drive/dip"
   ]
  },
  {
   "cell_type": "code",
   "execution_count": null,
   "metadata": {
    "colab": {
     "base_uri": "https://localhost:8080/"
    },
    "id": "D9LXNXO1mmee",
    "outputId": "f07ad1d9-faff-4037-e9b1-1905be6f67ba"
   },
   "outputs": [
    {
     "name": "stdout",
     "output_type": "stream",
     "text": [
      "Cloning into 'poker'...\n",
      "remote: Enumerating objects: 457, done.\u001b[K\n",
      "remote: Counting objects: 100% (457/457), done.\u001b[K\n",
      "remote: Compressing objects: 100% (273/273), done.\u001b[K\n",
      "remote: Total 457 (delta 253), reused 369 (delta 167), pack-reused 0\u001b[K\n",
      "Receiving objects: 100% (457/457), 107.38 KiB | 1.85 MiB/s, done.\n",
      "Resolving deltas: 100% (253/253), done.\n"
     ]
    }
   ],
   "source": [
    "!git clone https://github.com/zb46392/poker.git"
   ]
  },
  {
   "cell_type": "code",
   "execution_count": null,
   "metadata": {
    "colab": {
     "base_uri": "https://localhost:8080/"
    },
    "id": "Hu_eYYLEmqaB",
    "outputId": "d69b4766-09b3-46cc-debc-7087976b3d4a"
   },
   "outputs": [
    {
     "name": "stdout",
     "output_type": "stream",
     "text": [
      "/content/driver/My Drive/dip/poker\n"
     ]
    }
   ],
   "source": [
    "%cd poker"
   ]
  },
  {
   "cell_type": "code",
   "execution_count": null,
   "metadata": {
    "id": "zL0HTs0Cm905"
   },
   "outputs": [],
   "source": [
    "from itertools import product\n",
    "from game import TrainingTable, OpponentBot\n",
    "from game.table.observer import FileTextualObserver\n",
    "from typing import Dict, Tuple\n",
    "from random import shuffle"
   ]
  },
  {
   "cell_type": "code",
   "execution_count": null,
   "metadata": {
    "id": "cTvtAhkfnBlL"
   },
   "outputs": [],
   "source": [
    "def generate_parameters():\n",
    "    d = dict(\n",
    "        fold_thresh=[10, 20, 30, 40, 50, 60, 70, 80, 90],\n",
    "        raise_thresh=[10, 20, 30, 40, 50, 60, 70, 80, 90],\n",
    "        bluff_thresh=[10, 20, 30, 40, 50, 60, 70, 80, 90]\n",
    "    )\n",
    "\n",
    "    return d"
   ]
  },
  {
   "cell_type": "code",
   "execution_count": null,
   "metadata": {
    "id": "s51jJNXZnHSD"
   },
   "outputs": [],
   "source": [
    "def init_table(group: Tuple[Tuple[int, int, int], Tuple[int, int, int], Tuple[int, int, int]]) -> TrainingTable:\n",
    "    t = TrainingTable([OpponentBot, OpponentBot, OpponentBot])\n",
    "\n",
    "    p = t.players\n",
    "\n",
    "    for i in range(len(p)):\n",
    "        p[i].fold_thresh = group[i][0]\n",
    "        p[i].raise_thresh = group[i][1]\n",
    "        p[i].bluff_thresh = group[i][2]\n",
    "\n",
    "    return t"
   ]
  },
  {
   "cell_type": "code",
   "execution_count": null,
   "metadata": {
    "id": "F9NN16lunJlI"
   },
   "outputs": [],
   "source": [
    "def create_player_param(t: TrainingTable) -> Dict[str, Dict[str, int]]:\n",
    "    p = t.players\n",
    "    pn = t.player_names\n",
    "\n",
    "    param = {}\n",
    "\n",
    "    for i in range(len(p)):\n",
    "        param[pn[i]] = {'fold': p[i].fold_thresh, 'raise': p[i].raise_thresh, 'bluff': p[i].bluff_thresh}\n",
    "\n",
    "    return param"
   ]
  },
  {
   "cell_type": "code",
   "execution_count": null,
   "metadata": {
    "colab": {
     "base_uri": "https://localhost:8080/"
    },
    "id": "UeB4NCzPnNrn",
    "outputId": "d3dcbaee-8cf8-4a4a-bcde-f911935c7d13"
   },
   "outputs": [
    {
     "name": "stdout",
     "output_type": "stream",
     "text": [
      "Finale:\n",
      "Player_1 (OpponentBot) -> fold: 70, raise: 50, bluff: 20\n",
      "Player_2 (OpponentBot) -> fold: 60, raise: 80, bluff: 30\n",
      "Player_3 (OpponentBot) -> fold: 50, raise: 50, bluff: 70\n",
      "Winner: Player_2 (OpponentBot)\n"
     ]
    }
   ],
   "source": [
    "parameters = generate_parameters()\n",
    "parameters = parameters.values()\n",
    "combos = [(fold_thresh, raise_thresh, bluff_thresh) for fold_thresh, \n",
    "          raise_thresh, bluff_thresh in product(*parameters)]\n",
    "shuffle(combos)\n",
    "\n",
    "while len(combos) != 3:\n",
    "    groups = [(combos[i], combos[i + 1], combos[i + 2]) for i in range(0, len(combos), 3)]\n",
    "    winners = []\n",
    "\n",
    "    for g in groups:\n",
    "        t = init_table(g)\n",
    "        player_params = create_player_param(t)\n",
    "        t.run_tournament()\n",
    "        winner = t.get_winner_name()\n",
    "        win_params = player_params[winner]\n",
    "\n",
    "        winners.append((win_params['fold'], win_params['raise'], win_params['bluff']))\n",
    "        t.reset_tournament()\n",
    "\n",
    "    combos = winners\n",
    "\n",
    "t = init_table(combos)\n",
    "print('Finale:')\n",
    "for p in t.players:\n",
    "    print(f'{p.name} -> fold: {p.fold_thresh}, raise: {p.raise_thresh}, bluff: {p.bluff_thresh}')\n",
    "\n",
    "t.attach_observer(FileTextualObserver())\n",
    "t.run_tournament()\n",
    "print(f'Winner: {t.get_winner_name()}')"
   ]
  },
  {
   "cell_type": "code",
   "execution_count": null,
   "metadata": {
    "id": "49b4nU3Mnpe-"
   },
   "outputs": [],
   "source": []
  }
 ],
 "metadata": {
  "colab": {
   "collapsed_sections": [],
   "name": "tournament.ipynb",
   "provenance": []
  },
  "kernelspec": {
   "display_name": "Python 3",
   "language": "python",
   "name": "python3"
  },
  "language_info": {
   "codemirror_mode": {
    "name": "ipython",
    "version": 3
   },
   "file_extension": ".py",
   "mimetype": "text/x-python",
   "name": "python",
   "nbconvert_exporter": "python",
   "pygments_lexer": "ipython3",
   "version": "3.7.4"
  }
 },
 "nbformat": 4,
 "nbformat_minor": 1
}
